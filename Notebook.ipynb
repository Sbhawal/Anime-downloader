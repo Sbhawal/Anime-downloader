{
 "cells": [
  {
   "cell_type": "code",
   "execution_count": 1,
   "id": "c5609580",
   "metadata": {},
   "outputs": [],
   "source": [
    "import os\n",
    "import requests\n",
    "import time\n",
    "import re\n",
    "from bs4 import BeautifulSoup\n",
    "import m3u8\n",
    "import sys\n",
    "from tqdm import tqdm\n",
    "\n",
    "search_url = \"https://ww.9anime2.com/search/\"\n",
    "watch_url = \"https://ww.9anime2.com/watch/\"\n",
    "base = \"https://ww.9anime2.com\""
   ]
  },
  {
   "cell_type": "code",
   "execution_count": null,
   "id": "a95d7c54",
   "metadata": {},
   "outputs": [],
   "source": []
  },
  {
   "cell_type": "code",
   "execution_count": 2,
   "id": "29cb7818",
   "metadata": {},
   "outputs": [
    {
     "name": "stdout",
     "output_type": "stream",
     "text": [
      "Enter Anime Name : naruto\n"
     ]
    }
   ],
   "source": [
    "anime = input(\"Enter Anime Name : \")\n",
    "search_term = \"%20\".join(anime.split())"
   ]
  },
  {
   "cell_type": "code",
   "execution_count": null,
   "id": "daf8a8fd",
   "metadata": {},
   "outputs": [],
   "source": []
  },
  {
   "cell_type": "code",
   "execution_count": 3,
   "id": "df921529",
   "metadata": {},
   "outputs": [],
   "source": [
    "url = search_url+search_term\n",
    "r = requests.get(url)\n",
    "soup = BeautifulSoup(r.text, features=\"lxml\")"
   ]
  },
  {
   "cell_type": "code",
   "execution_count": null,
   "id": "786d9ff2",
   "metadata": {},
   "outputs": [],
   "source": []
  },
  {
   "cell_type": "code",
   "execution_count": 4,
   "id": "94bf65e6",
   "metadata": {},
   "outputs": [],
   "source": [
    "titles = soup.find(\"ul\", {\"class\": \"anime-list\"})\n",
    "anime_list = titles.find_all(\"li\")\n",
    "title_list = [\"\\t\".join(i.text.replace(\"\\ndub\",\"\").replace(\" Series\",\"\").replace(\"Special \",\"Special\").split(\"\\n\")[3:]) for i in anime_list]"
   ]
  },
  {
   "cell_type": "code",
   "execution_count": null,
   "id": "05cc8184",
   "metadata": {},
   "outputs": [],
   "source": []
  },
  {
   "cell_type": "code",
   "execution_count": 5,
   "id": "079d3df4",
   "metadata": {},
   "outputs": [
    {
     "name": "stdout",
     "output_type": "stream",
     "text": [
      "\n",
      "40 Results found matching name : naruto\n",
      "\n",
      "Index \t Type \t Name\n",
      "\n",
      "1\t TV \t Naruto \n",
      "2\t Movie \t Naruto Shippuuden Movie 1 \n",
      "3\t Movie \t Naruto Shippuuden Movie 7: The Last \n",
      "4\t Movie \t Boruto: Naruto the Movie (Dub) \n",
      "5\t Movie \t Boruto: Naruto the Movie \n",
      "6\t TV \t Boruto: Naruto Next Generations (Dub) \n",
      "7\t Spring 2017 Anime \t Boruto: Naruto Next Generations \n",
      "8\t Movie \t Naruto: Shippuuden Movie 6 - Road to Ninja (Dub) \n",
      "9\t Movie \t Naruto: Shippuuden Movie 1 (Dub) \n",
      "10\t Movie \t Naruto Shippuuden Movie 2: Kizuna \n",
      "11\t TV \t Naruto Shippuden \n",
      "12\t TV \t Naruto (Dub) \n",
      "13\t Movie \t Boruto: Naruto the Movie (Dub) \n",
      "14\t Special\t Boruto: Naruto the Movie - Naruto ga Hokage ni Natta Hi \n",
      "15\t Movie \t Naruto: Shippuuden Movie 2 - Kizuna (Dub) \n",
      "16\t Movie \t The Last: Naruto the Movie (Dub) \n",
      "17\t Movie \t Naruto Shippuuden Movie 6: Road to Ninja \n",
      "18\t Movie \t Naruto: Shippuuden Movie 5 - Blood Prison (Dub) \n",
      "19\t Special\t Naruto: Akaki Yotsuba no Clover wo Sagase \n",
      "20\t Movie \t Naruto Shippuuden Movie 5: Blood Prison \n",
      "21\t TV \t Naruto Shippuuden (Dub) \n",
      "22\t Movie \t Naruto the Movie: Ninja Clash in the Land of Snow (Dub) \n",
      "23\t Movie \t Naruto Shippuuden: Sunny Side Battle \n",
      "24\t Movie \t Naruto Shippuden Movie 5 Special\n",
      "25\t Movie \t Naruto: Honoo no Chuunin Shiken! Naruto vs. Konohamaru!! \n",
      "26\t Movie \t Naruto the Movie 2: Legend of the Stone of Gelel (Dub) \n",
      "27\t Movie \t Naruto: Honoo no Chuunin Shiken! Naruto vs. Konohamaru!! (Dub) \n",
      "28\t Movie \t Naruto Shippuuden: Sunny Side Battle \n",
      "29\t Movie \t Naruto Shippuuden Movie 4: The Lost Tower \n",
      "30\t Movie \t Naruto: The Lost Story - Mission: Protect the Waterfall Village (Dub) \n",
      "31\t Movie \t Naruto Soyokazeden Movie: Naruto to Mashin to Mitsu no Onegai Dattebayo!! \n",
      "32\t Movie \t Naruto the Movie 3: Guardians of the Crescent Moon Kingdom (Dub) \n",
      "33\t TV \t Rock Lee no Seishun Full-Power Ninden (Dub) \n",
      "34\t Movie \t Naruto Movie 1: Dai Katsugeki! Yuki Hime Ninpouchou Datte ba yo! \n",
      "35\t Movie \t Naruto Movie 2: Dai Gekitotsu! Maboroshi no Chitei Iseki Datte ba yo! \n",
      "36\t OVA \t Naruto Narutimate Hero 3: Tsuini Gekitotsu! Jounin vs. Genin!! Musabetsu Dairansen Taikai Kaisai!! \n",
      "37\t Movie \t Naruto Movie 3: Dai Koufun! Mikazukijima no Animal Panic Datte ba yo! \n",
      "38\t TV \t Naruto SD: Rock Lee no Seishun Full-Power Ninden \n",
      "39\t Special\t Naruto: Takigakure no Shitou - Ore ga Eiyuu Dattebayo! \n",
      "40\t Movie \t Naruto Shippuuden Movie 3: Hi no Ishi o Tsugu Mono \n"
     ]
    }
   ],
   "source": [
    "print()\n",
    "print(str(len(title_list)) + \" Results found matching name : \" + anime)\n",
    "print(\"\\nIndex \\t Type \\t Name\\n\")\n",
    "for i in range(len(title_list)):\n",
    "    print(str(i+1) + \"\\t \" + title_list[i])"
   ]
  },
  {
   "cell_type": "code",
   "execution_count": 6,
   "id": "6892c25d",
   "metadata": {},
   "outputs": [
    {
     "name": "stdout",
     "output_type": "stream",
     "text": [
      "\n",
      "Enter anime index to download : 1\n"
     ]
    }
   ],
   "source": [
    "print()\n",
    "choice = input(\"Enter anime index to download : \")\n",
    "\n",
    "suffix = \"-\".join(title_list[int(choice)-1].split('\\t')[1].split()).lower()\n",
    "url = \"https://ww.9anime2.com/watch/\"+suffix\n",
    "r = requests.get(url)\n",
    "soup = BeautifulSoup(r.text, features=\"lxml\")"
   ]
  },
  {
   "cell_type": "code",
   "execution_count": null,
   "id": "a0ee05ff",
   "metadata": {},
   "outputs": [],
   "source": []
  },
  {
   "cell_type": "code",
   "execution_count": 7,
   "id": "093106e9",
   "metadata": {},
   "outputs": [],
   "source": [
    "episodes = soup.find(\"ul\", {\"class\": \"episodes\"})\n",
    "noe = len(episodes.find_all('li'))"
   ]
  },
  {
   "cell_type": "code",
   "execution_count": 8,
   "id": "22f47361",
   "metadata": {},
   "outputs": [
    {
     "name": "stdout",
     "output_type": "stream",
     "text": [
      "\n",
      "-------------------------\n",
      "\n",
      "Number of downloadable episodes in the series : 220\n"
     ]
    }
   ],
   "source": [
    "print('\\n-------------------------\\n')\n",
    "print(\"Number of downloadable episodes in the series : \" + str(noe))"
   ]
  },
  {
   "cell_type": "code",
   "execution_count": 9,
   "id": "82eab9e8",
   "metadata": {},
   "outputs": [
    {
     "name": "stdout",
     "output_type": "stream",
     "text": [
      "\n",
      "Enter episode(s) to be downloaded (space-separatred): 1 2 3 4 5 6 7 8 9\n"
     ]
    }
   ],
   "source": [
    "choice = input(\"\\nEnter episode(s) to be downloaded (space-separatred): \")\n",
    "choice = re.sub(\"[^0-9]\", \" \", choice)"
   ]
  },
  {
   "cell_type": "code",
   "execution_count": 10,
   "id": "5e17b3eb",
   "metadata": {},
   "outputs": [],
   "source": [
    "choices = choice.split()\n",
    "for i in choices:\n",
    "    if(int(i) not in range(1,noe+1)):\n",
    "        print(\"Latest episode count is \"+str(noe)+\". \")\n",
    "        print(\"Skipping episode \"+i)\n",
    "        choices.remove(i)\n",
    "        print()"
   ]
  },
  {
   "cell_type": "code",
   "execution_count": 11,
   "id": "a5837181",
   "metadata": {},
   "outputs": [],
   "source": [
    "choices = list(sorted(set(choices)))"
   ]
  },
  {
   "cell_type": "code",
   "execution_count": 12,
   "id": "2490cfb1",
   "metadata": {},
   "outputs": [
    {
     "name": "stdout",
     "output_type": "stream",
     "text": [
      "\n",
      "-------------------------\n",
      "\n",
      "Collecting download links \n",
      "\n"
     ]
    }
   ],
   "source": [
    "DOWNLOAD_LINKS = []\n",
    "print('\\n-------------------------\\n')\n",
    "print(\"Collecting download links \\n\")"
   ]
  },
  {
   "cell_type": "code",
   "execution_count": null,
   "id": "cf33ff87",
   "metadata": {},
   "outputs": [],
   "source": []
  },
  {
   "cell_type": "code",
   "execution_count": null,
   "id": "1ae7305b",
   "metadata": {},
   "outputs": [],
   "source": []
  },
  {
   "cell_type": "code",
   "execution_count": 13,
   "id": "79266a88",
   "metadata": {},
   "outputs": [
    {
     "name": "stderr",
     "output_type": "stream",
     "text": [
      "100%|████████████████████████████████████████████████████████████████████████████████████| 9/9 [00:11<00:00,  1.27s/it]\n"
     ]
    }
   ],
   "source": [
    "for i in tqdm(choices):\n",
    "    URL = url+\"/\"+i\n",
    "    episode_page = requests.get(URL)\n",
    "    soup = BeautifulSoup(episode_page.text, features=\"lxml\")\n",
    "    embed = soup.find(\"iframe\", {\"id\": \"playerframe\"}).get('src')\n",
    "    embed_url = base + embed\n",
    "    embed_page = requests.get(embed_url)\n",
    "    soup = BeautifulSoup(embed_page.text, features=\"lxml\")\n",
    "    data  = str(soup.find_all(\"script\")[-1].string)\n",
    "    link = re.search(\"(?P<url>https?://[^\\s]+)\", data).group(\"url\").replace(\"'\",\"\")\n",
    "    if link[-10:] == 'index.m3u8':\n",
    "        link = link[:-10]\n",
    "    DOWNLOAD_LINKS.append(link)\n",
    "    \n"
   ]
  },
  {
   "cell_type": "code",
   "execution_count": 14,
   "id": "a238e22f",
   "metadata": {},
   "outputs": [],
   "source": [
    "def download(link, filename):\n",
    "    m3u8_file = link +\"index.m3u8\"\n",
    "    m3u8_data = requests.get(m3u8_file)\n",
    "    m3u8_master = m3u8.loads(m3u8_data.text)\n",
    "    uris = [link + x['uri'] for x in m3u8_master.data['segments']]\n",
    "    sess = requests.Session()\n",
    "    with open(filename + \".ts\", 'wb') as f:\n",
    "        for uri in tqdm(uris):\n",
    "            r = sess.get(uri)\n",
    "            f.write(r.content)"
   ]
  },
  {
   "cell_type": "code",
   "execution_count": null,
   "id": "673bfe40",
   "metadata": {},
   "outputs": [],
   "source": []
  },
  {
   "cell_type": "code",
   "execution_count": 15,
   "id": "6c0f821f",
   "metadata": {},
   "outputs": [
    {
     "name": "stdout",
     "output_type": "stream",
     "text": [
      "\n",
      "-------------------------\n",
      "\n",
      "Initiating Download \n",
      "\n"
     ]
    }
   ],
   "source": [
    "print('\\n-------------------------\\n')\n",
    "print(\"Initiating Download \\n\")"
   ]
  },
  {
   "cell_type": "code",
   "execution_count": 17,
   "id": "987a8409",
   "metadata": {},
   "outputs": [],
   "source": [
    "# for i in range(len(DOWNLOAD_LINKS)):\n",
    "#     print(\"Downloading ep \"+choices[i])\n",
    "#     download(DOWNLOAD_LINKS[i], suffix + \"_episode_\"+choices[i])"
   ]
  },
  {
   "cell_type": "code",
   "execution_count": 18,
   "id": "15ca3f6f",
   "metadata": {},
   "outputs": [
    {
     "name": "stdout",
     "output_type": "stream",
     "text": [
      "\n",
      "DOWNLOAD FINISHED !! \n"
     ]
    }
   ],
   "source": [
    "print(\"\\nDOWNLOAD FINISHED !! \")"
   ]
  },
  {
   "cell_type": "code",
   "execution_count": null,
   "id": "439a0acd",
   "metadata": {},
   "outputs": [],
   "source": []
  },
  {
   "cell_type": "code",
   "execution_count": null,
   "id": "46280674",
   "metadata": {},
   "outputs": [],
   "source": []
  },
  {
   "cell_type": "code",
   "execution_count": null,
   "id": "f0cf963e",
   "metadata": {},
   "outputs": [],
   "source": []
  },
  {
   "cell_type": "code",
   "execution_count": null,
   "id": "05a6c587",
   "metadata": {},
   "outputs": [],
   "source": [
    "input()"
   ]
  },
  {
   "cell_type": "code",
   "execution_count": null,
   "id": "6fed2830",
   "metadata": {},
   "outputs": [],
   "source": []
  },
  {
   "cell_type": "code",
   "execution_count": null,
   "id": "f2d9e0bb",
   "metadata": {},
   "outputs": [],
   "source": []
  },
  {
   "cell_type": "code",
   "execution_count": null,
   "id": "1616a440",
   "metadata": {},
   "outputs": [],
   "source": []
  },
  {
   "cell_type": "code",
   "execution_count": null,
   "id": "85484a99",
   "metadata": {},
   "outputs": [],
   "source": []
  },
  {
   "cell_type": "code",
   "execution_count": null,
   "id": "c75abc38",
   "metadata": {},
   "outputs": [],
   "source": []
  },
  {
   "cell_type": "code",
   "execution_count": null,
   "id": "66aaadc0",
   "metadata": {},
   "outputs": [],
   "source": []
  },
  {
   "cell_type": "code",
   "execution_count": null,
   "id": "3f899239",
   "metadata": {},
   "outputs": [],
   "source": []
  },
  {
   "cell_type": "code",
   "execution_count": null,
   "id": "faa5e07d",
   "metadata": {},
   "outputs": [],
   "source": []
  },
  {
   "cell_type": "code",
   "execution_count": null,
   "id": "9c98ac36",
   "metadata": {},
   "outputs": [],
   "source": []
  },
  {
   "cell_type": "code",
   "execution_count": null,
   "id": "14ae676d",
   "metadata": {},
   "outputs": [],
   "source": []
  },
  {
   "cell_type": "code",
   "execution_count": null,
   "id": "f10e1bb8",
   "metadata": {},
   "outputs": [],
   "source": []
  }
 ],
 "metadata": {
  "kernelspec": {
   "display_name": "Python 3",
   "language": "python",
   "name": "python3"
  },
  "language_info": {
   "codemirror_mode": {
    "name": "ipython",
    "version": 3
   },
   "file_extension": ".py",
   "mimetype": "text/x-python",
   "name": "python",
   "nbconvert_exporter": "python",
   "pygments_lexer": "ipython3",
   "version": "3.8.8"
  }
 },
 "nbformat": 4,
 "nbformat_minor": 5
}
